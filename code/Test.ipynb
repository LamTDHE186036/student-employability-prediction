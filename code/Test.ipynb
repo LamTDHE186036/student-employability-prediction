{
 "cells": [
  {
   "cell_type": "code",
   "execution_count": 2,
   "id": "2a54991b",
   "metadata": {},
   "outputs": [
    {
     "name": "stdout",
     "output_type": "stream",
     "text": [
      "Kết quả dự đoán: Không được tuyển dụng\n"
     ]
    }
   ],
   "source": [
    "import joblib\n",
    "best_rf = joblib.load(\"best_rf_model.pkl\")\n",
    "import pandas as pd\n",
    "\n",
    "# Nhập X mới — phải đúng thứ tự và tên cột\n",
    "new_data = pd.DataFrame([{\n",
    "    \"CGPA\": float(input(\"CGPA: \")),\n",
    "    \"Internships\": int(input(\"Số kỳ thực tập: \")),\n",
    "    \"Projects\": int(input(\"Số dự án: \")),\n",
    "    \"Workshops/Certifications\": int(input(\"Chứng chỉ: \")),\n",
    "    \"AptitudeTestScore\": float(input(\"Điểm trắc nghiệm: \")),\n",
    "    \"SoftSkillsRating\": float(input(\"Đánh giá kỹ năng mềm (1-5): \")),\n",
    "    \"ExtracurricularActivities\": int(input(\"Hoạt động ngoại khóa (0/1): \")),\n",
    "    \"PlacementTraining\": int(input(\"Tham gia đào tạo tuyển dụng (0/1): \")),\n",
    "    \"SSC_Marks\": float(input(\"Điểm SSC: \")),\n",
    "    \"HSC_Marks\": float(input(\"Điểm HSC: \"))\n",
    "}])\n",
    "\n",
    "# Nếu bạn có dùng scaler thì áp dụng ở đây, ví dụ:\n",
    "# new_data = scaler.transform(new_data)\n",
    "\n",
    "# Dự đoán\n",
    "prediction = best_rf.predict(new_data)[0]\n",
    "\n",
    "# In kết quả\n",
    "print(\"Kết quả dự đoán:\", \"Được tuyển dụng\" if prediction == 1 else \"Không được tuyển dụng\")\n"
   ]
  },
  {
   "cell_type": "code",
   "execution_count": null,
   "id": "37bd9ed0",
   "metadata": {},
   "outputs": [],
   "source": []
  }
 ],
 "metadata": {
  "kernelspec": {
   "display_name": "Python 3",
   "language": "python",
   "name": "python3"
  },
  "language_info": {
   "codemirror_mode": {
    "name": "ipython",
    "version": 3
   },
   "file_extension": ".py",
   "mimetype": "text/x-python",
   "name": "python",
   "nbconvert_exporter": "python",
   "pygments_lexer": "ipython3",
   "version": "3.12.4"
  }
 },
 "nbformat": 4,
 "nbformat_minor": 5
}
